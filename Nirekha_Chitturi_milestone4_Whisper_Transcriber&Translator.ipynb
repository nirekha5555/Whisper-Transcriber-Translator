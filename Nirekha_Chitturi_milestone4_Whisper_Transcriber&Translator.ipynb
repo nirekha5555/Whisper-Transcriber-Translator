{
  "nbformat": 4,
  "nbformat_minor": 0,
  "metadata": {
    "colab": {
      "provenance": []
    },
    "kernelspec": {
      "name": "python3",
      "display_name": "Python 3"
    },
    "language_info": {
      "name": "python"
    }
  },
  "cells": [
    {
      "cell_type": "markdown",
      "source": [
        "# Milestone 4: Whisper Transcriber & Translator - Deployment and Testing with Visualizations\n",
        "\n",
        "Student Name: Nirekha Chitturi  \n",
        "Student ID: A00027695  \n",
        "Colab Link: https://colab.research.google.com/drive/1VwypP_ov57cRs0hQ2tqM512A4ZqUBKuL#scrollTo=yPQ_USQSPd9v\n",
        "\n",
        "## Objective\n",
        "This project creates a Speech-To-Text application using OpenAI's Whisper ASR system. It transcribes audio, translates it into French, detects the language, and provides downloadable results. For Milestone 4, we:\n",
        "- Test utility functions with unit tests\n",
        "- Deploy the app using Gradio in Colab\n",
        "- Visualize the audio waveform\n",
        "- Document the process for PDF export\n",
        "\n",
        "## Whisper Overview\n",
        "Whisper, developed by OpenAI, is trained on 680,000 hours of multilingual speech data. It uses an encoder-decoder Transformer architecture, processing 30-second audio chunks into log-Mel spectrograms for transcription and translation. Learn more at [OpenAI Whisper Blog](https://openai.com/blog/whisper/)."
      ],
      "metadata": {
        "id": "yPQ_USQSPd9v"
      }
    },
    {
      "cell_type": "markdown",
      "source": [
        "## Install Required Libraries\n",
        "Install the necessary Python packages, including Whisper, Gradio, and visualization tools like Matplotlib."
      ],
      "metadata": {
        "id": "u88dK80YQAiK"
      }
    },
    {
      "cell_type": "code",
      "source": [
        "!pip install -q torch git+https://github.com/openai/whisper.git langdetect ffmpeg-python gradio matplotlib"
      ],
      "metadata": {
        "colab": {
          "base_uri": "https://localhost:8080/",
          "height": 0
        },
        "id": "hLEkAmtVPzRo",
        "outputId": "01f64870-a1ee-4d55-c4e8-8c7f4e46367e"
      },
      "execution_count": 1,
      "outputs": [
        {
          "output_type": "stream",
          "name": "stdout",
          "text": [
            "  Installing build dependencies ... \u001b[?25l\u001b[?25hdone\n",
            "  Getting requirements to build wheel ... \u001b[?25l\u001b[?25hdone\n",
            "  Preparing metadata (pyproject.toml) ... \u001b[?25l\u001b[?25hdone\n",
            "\u001b[2K     \u001b[90m━━━━━━━━━━━━━━━━━━━━━━━━━━━━━━━━━━━━━━\u001b[0m \u001b[32m981.5/981.5 kB\u001b[0m \u001b[31m12.9 MB/s\u001b[0m eta \u001b[36m0:00:00\u001b[0m\n",
            "\u001b[?25h  Preparing metadata (setup.py) ... \u001b[?25l\u001b[?25hdone\n",
            "\u001b[2K   \u001b[90m━━━━━━━━━━━━━━━━━━━━━━━━━━━━━━━━━━━━━━━━\u001b[0m \u001b[32m363.4/363.4 MB\u001b[0m \u001b[31m4.2 MB/s\u001b[0m eta \u001b[36m0:00:00\u001b[0m\n",
            "\u001b[2K   \u001b[90m━━━━━━━━━━━━━━━━━━━━━━━━━━━━━━━━━━━━━━━━\u001b[0m \u001b[32m13.8/13.8 MB\u001b[0m \u001b[31m60.0 MB/s\u001b[0m eta \u001b[36m0:00:00\u001b[0m\n",
            "\u001b[2K   \u001b[90m━━━━━━━━━━━━━━━━━━━━━━━━━━━━━━━━━━━━━━━━\u001b[0m \u001b[32m24.6/24.6 MB\u001b[0m \u001b[31m32.7 MB/s\u001b[0m eta \u001b[36m0:00:00\u001b[0m\n",
            "\u001b[2K   \u001b[90m━━━━━━━━━━━━━━━━━━━━━━━━━━━━━━━━━━━━━━━━\u001b[0m \u001b[32m883.7/883.7 kB\u001b[0m \u001b[31m37.2 MB/s\u001b[0m eta \u001b[36m0:00:00\u001b[0m\n",
            "\u001b[2K   \u001b[90m━━━━━━━━━━━━━━━━━━━━━━━━━━━━━━━━━━━━━━━━\u001b[0m \u001b[32m664.8/664.8 MB\u001b[0m \u001b[31m2.8 MB/s\u001b[0m eta \u001b[36m0:00:00\u001b[0m\n",
            "\u001b[2K   \u001b[90m━━━━━━━━━━━━━━━━━━━━━━━━━━━━━━━━━━━━━━━━\u001b[0m \u001b[32m211.5/211.5 MB\u001b[0m \u001b[31m5.8 MB/s\u001b[0m eta \u001b[36m0:00:00\u001b[0m\n",
            "\u001b[2K   \u001b[90m━━━━━━━━━━━━━━━━━━━━━━━━━━━━━━━━━━━━━━━━\u001b[0m \u001b[32m56.3/56.3 MB\u001b[0m \u001b[31m12.2 MB/s\u001b[0m eta \u001b[36m0:00:00\u001b[0m\n",
            "\u001b[2K   \u001b[90m━━━━━━━━━━━━━━━━━━━━━━━━━━━━━━━━━━━━━━━━\u001b[0m \u001b[32m127.9/127.9 MB\u001b[0m \u001b[31m7.7 MB/s\u001b[0m eta \u001b[36m0:00:00\u001b[0m\n",
            "\u001b[2K   \u001b[90m━━━━━━━━━━━━━━━━━━━━━━━━━━━━━━━━━━━━━━━━\u001b[0m \u001b[32m207.5/207.5 MB\u001b[0m \u001b[31m6.2 MB/s\u001b[0m eta \u001b[36m0:00:00\u001b[0m\n",
            "\u001b[2K   \u001b[90m━━━━━━━━━━━━━━━━━━━━━━━━━━━━━━━━━━━━━━━━\u001b[0m \u001b[32m21.1/21.1 MB\u001b[0m \u001b[31m77.8 MB/s\u001b[0m eta \u001b[36m0:00:00\u001b[0m\n",
            "\u001b[2K   \u001b[90m━━━━━━━━━━━━━━━━━━━━━━━━━━━━━━━━━━━━━━━━\u001b[0m \u001b[32m46.9/46.9 MB\u001b[0m \u001b[31m12.0 MB/s\u001b[0m eta \u001b[36m0:00:00\u001b[0m\n",
            "\u001b[2K   \u001b[90m━━━━━━━━━━━━━━━━━━━━━━━━━━━━━━━━━━━━━━━━\u001b[0m \u001b[32m322.2/322.2 kB\u001b[0m \u001b[31m20.5 MB/s\u001b[0m eta \u001b[36m0:00:00\u001b[0m\n",
            "\u001b[2K   \u001b[90m━━━━━━━━━━━━━━━━━━━━━━━━━━━━━━━━━━━━━━━━\u001b[0m \u001b[32m95.2/95.2 kB\u001b[0m \u001b[31m7.1 MB/s\u001b[0m eta \u001b[36m0:00:00\u001b[0m\n",
            "\u001b[2K   \u001b[90m━━━━━━━━━━━━━━━━━━━━━━━━━━━━━━━━━━━━━━━━\u001b[0m \u001b[32m11.4/11.4 MB\u001b[0m \u001b[31m87.5 MB/s\u001b[0m eta \u001b[36m0:00:00\u001b[0m\n",
            "\u001b[2K   \u001b[90m━━━━━━━━━━━━━━━━━━━━━━━━━━━━━━━━━━━━━━━━\u001b[0m \u001b[32m72.0/72.0 kB\u001b[0m \u001b[31m4.6 MB/s\u001b[0m eta \u001b[36m0:00:00\u001b[0m\n",
            "\u001b[2K   \u001b[90m━━━━━━━━━━━━━━━━━━━━━━━━━━━━━━━━━━━━━━━━\u001b[0m \u001b[32m62.3/62.3 kB\u001b[0m \u001b[31m4.2 MB/s\u001b[0m eta \u001b[36m0:00:00\u001b[0m\n",
            "\u001b[2K   \u001b[90m━━━━━━━━━━━━━━━━━━━━━━━━━━━━━━━━━━━━━━━━\u001b[0m \u001b[32m1.2/1.2 MB\u001b[0m \u001b[31m50.8 MB/s\u001b[0m eta \u001b[36m0:00:00\u001b[0m\n",
            "\u001b[?25h  Building wheel for openai-whisper (pyproject.toml) ... \u001b[?25l\u001b[?25hdone\n",
            "  Building wheel for langdetect (setup.py) ... \u001b[?25l\u001b[?25hdone\n"
          ]
        }
      ]
    },
    {
      "cell_type": "markdown",
      "source": [
        "## Define Utility Functions\n",
        "These functions handle language detection and output file saving."
      ],
      "metadata": {
        "id": "hbARRqJ_QWtT"
      }
    },
    {
      "cell_type": "code",
      "source": [
        "from langdetect import detect\n",
        "import os\n",
        "\n",
        "def detect_language(text):\n",
        "    try:\n",
        "        return detect(text)\n",
        "    except:\n",
        "        return 'unknown'\n",
        "\n",
        "def save_output_file(transcription, translation, whisper_lang, detected_lang):\n",
        "    content = (\n",
        "        '=== TRANSCRIPTION ===\\n' + transcription + '\\n\\n'\n",
        "        '=== TRANSLATION (FR) ===\\n' + translation + '\\n\\n'\n",
        "        '=== LANGUAGE DETECTION ===\\n'\n",
        "        f'Whisper: {whisper_lang}\\nLangdetect: {detected_lang}\\n'\n",
        "    )\n",
        "    file_path = 'whisper_output.txt'\n",
        "    with open(file_path, 'w', encoding='utf-8') as f:\n",
        "        f.write(content)\n",
        "    return file_path"
      ],
      "metadata": {
        "id": "8VZC0aqoQX2w"
      },
      "execution_count": 2,
      "outputs": []
    },
    {
      "cell_type": "markdown",
      "source": [
        "## Unit Tests for Utility Functions\n",
        "Test `detect_language()` and `save_output_file()` to ensure reliability."
      ],
      "metadata": {
        "id": "VUQc48JaQhMb"
      }
    },
    {
      "cell_type": "code",
      "source": [
        "import unittest\n",
        "\n",
        "class TestUtils(unittest.TestCase):\n",
        "    def test_detect_language(self):\n",
        "        self.assertEqual(detect_language('Hello, how are you?'), 'en')\n",
        "        self.assertEqual(detect_language('Bonjour, comment vas-tu?'), 'fr')\n",
        "        self.assertEqual(detect_language(''), 'unknown')\n",
        "\n",
        "    def test_save_output_file(self):\n",
        "        transcription = 'This is a test.'\n",
        "        translation = 'Ceci est un test.'\n",
        "        whisper_lang = 'en'\n",
        "        detected_lang = 'en'\n",
        "        file_path = save_output_file(transcription, translation, whisper_lang, detected_lang)\n",
        "        with open(file_path, 'r', encoding='utf-8') as f:\n",
        "            content = f.read()\n",
        "        self.assertIn('=== TRANSCRIPTION ===', content)\n",
        "        self.assertIn(transcription, content)\n",
        "        self.assertIn('=== TRANSLATION (FR) ===', content)\n",
        "        self.assertIn(translation, content)\n",
        "        self.assertIn('=== LANGUAGE DETECTION ===', content)\n",
        "        self.assertIn(f'Whisper: {whisper_lang}', content)\n",
        "        self.assertIn(f'Langdetect: {detected_lang}', content)\n",
        "        os.remove(file_path)  # Cleanup\n",
        "\n",
        "# Run tests\n",
        "if __name__ == '__main__':\n",
        "    unittest.main(argv=[''], verbosity=2, exit=False)"
      ],
      "metadata": {
        "colab": {
          "base_uri": "https://localhost:8080/",
          "height": 0
        },
        "id": "Kp11gf07QiCW",
        "outputId": "f4305968-1415-41c0-dbb0-47b559560405"
      },
      "execution_count": 3,
      "outputs": [
        {
          "output_type": "stream",
          "name": "stderr",
          "text": [
            "test_detect_language (__main__.TestUtils.test_detect_language) ... ok\n",
            "test_save_output_file (__main__.TestUtils.test_save_output_file) ... ok\n",
            "\n",
            "----------------------------------------------------------------------\n",
            "Ran 2 tests in 0.775s\n",
            "\n",
            "OK\n"
          ]
        }
      ]
    },
    {
      "cell_type": "markdown",
      "source": [
        "## Visualize Audio Waveform\n",
        "Upload an audio file and plot its waveform to visualize the signal before processing."
      ],
      "metadata": {
        "id": "yBt1BRk3QrHG"
      }
    },
    {
      "cell_type": "code",
      "source": [
        "import whisper\n",
        "import numpy as np\n",
        "import matplotlib.pyplot as plt\n",
        "from google.colab import files\n",
        "\n",
        "# Upload audio file\n",
        "uploaded = files.upload()\n",
        "audio_path = list(uploaded.keys())[0]\n",
        "\n",
        "# Load and preprocess audio\n",
        "audio = whisper.load_audio(audio_path)\n",
        "audio = whisper.pad_or_trim(audio)\n",
        "\n",
        "# Calculate time axis\n",
        "sample_rate = 16000  # Whisper default sample rate\n",
        "time = np.linspace(0, len(audio) / sample_rate, num=len(audio))\n",
        "\n",
        "# Plot waveform\n",
        "plt.figure(figsize=(12, 4))\n",
        "plt.plot(time, audio, color='blue')\n",
        "plt.title('Audio Waveform')\n",
        "plt.xlabel('Time (seconds)')\n",
        "plt.ylabel('Amplitude')\n",
        "plt.grid(True)\n",
        "plt.show()"
      ],
      "metadata": {
        "colab": {
          "base_uri": "https://localhost:8080/",
          "height": 466
        },
        "id": "PPLDD1H_QtD5",
        "outputId": "70528f92-5358-4a68-e815-6a5ed084aeba"
      },
      "execution_count": 4,
      "outputs": [
        {
          "output_type": "display_data",
          "data": {
            "text/plain": [
              "<IPython.core.display.HTML object>"
            ],
            "text/html": [
              "\n",
              "     <input type=\"file\" id=\"files-0b27c05a-c1e2-4e09-be53-114db947271b\" name=\"files[]\" multiple disabled\n",
              "        style=\"border:none\" />\n",
              "     <output id=\"result-0b27c05a-c1e2-4e09-be53-114db947271b\">\n",
              "      Upload widget is only available when the cell has been executed in the\n",
              "      current browser session. Please rerun this cell to enable.\n",
              "      </output>\n",
              "      <script>// Copyright 2017 Google LLC\n",
              "//\n",
              "// Licensed under the Apache License, Version 2.0 (the \"License\");\n",
              "// you may not use this file except in compliance with the License.\n",
              "// You may obtain a copy of the License at\n",
              "//\n",
              "//      http://www.apache.org/licenses/LICENSE-2.0\n",
              "//\n",
              "// Unless required by applicable law or agreed to in writing, software\n",
              "// distributed under the License is distributed on an \"AS IS\" BASIS,\n",
              "// WITHOUT WARRANTIES OR CONDITIONS OF ANY KIND, either express or implied.\n",
              "// See the License for the specific language governing permissions and\n",
              "// limitations under the License.\n",
              "\n",
              "/**\n",
              " * @fileoverview Helpers for google.colab Python module.\n",
              " */\n",
              "(function(scope) {\n",
              "function span(text, styleAttributes = {}) {\n",
              "  const element = document.createElement('span');\n",
              "  element.textContent = text;\n",
              "  for (const key of Object.keys(styleAttributes)) {\n",
              "    element.style[key] = styleAttributes[key];\n",
              "  }\n",
              "  return element;\n",
              "}\n",
              "\n",
              "// Max number of bytes which will be uploaded at a time.\n",
              "const MAX_PAYLOAD_SIZE = 100 * 1024;\n",
              "\n",
              "function _uploadFiles(inputId, outputId) {\n",
              "  const steps = uploadFilesStep(inputId, outputId);\n",
              "  const outputElement = document.getElementById(outputId);\n",
              "  // Cache steps on the outputElement to make it available for the next call\n",
              "  // to uploadFilesContinue from Python.\n",
              "  outputElement.steps = steps;\n",
              "\n",
              "  return _uploadFilesContinue(outputId);\n",
              "}\n",
              "\n",
              "// This is roughly an async generator (not supported in the browser yet),\n",
              "// where there are multiple asynchronous steps and the Python side is going\n",
              "// to poll for completion of each step.\n",
              "// This uses a Promise to block the python side on completion of each step,\n",
              "// then passes the result of the previous step as the input to the next step.\n",
              "function _uploadFilesContinue(outputId) {\n",
              "  const outputElement = document.getElementById(outputId);\n",
              "  const steps = outputElement.steps;\n",
              "\n",
              "  const next = steps.next(outputElement.lastPromiseValue);\n",
              "  return Promise.resolve(next.value.promise).then((value) => {\n",
              "    // Cache the last promise value to make it available to the next\n",
              "    // step of the generator.\n",
              "    outputElement.lastPromiseValue = value;\n",
              "    return next.value.response;\n",
              "  });\n",
              "}\n",
              "\n",
              "/**\n",
              " * Generator function which is called between each async step of the upload\n",
              " * process.\n",
              " * @param {string} inputId Element ID of the input file picker element.\n",
              " * @param {string} outputId Element ID of the output display.\n",
              " * @return {!Iterable<!Object>} Iterable of next steps.\n",
              " */\n",
              "function* uploadFilesStep(inputId, outputId) {\n",
              "  const inputElement = document.getElementById(inputId);\n",
              "  inputElement.disabled = false;\n",
              "\n",
              "  const outputElement = document.getElementById(outputId);\n",
              "  outputElement.innerHTML = '';\n",
              "\n",
              "  const pickedPromise = new Promise((resolve) => {\n",
              "    inputElement.addEventListener('change', (e) => {\n",
              "      resolve(e.target.files);\n",
              "    });\n",
              "  });\n",
              "\n",
              "  const cancel = document.createElement('button');\n",
              "  inputElement.parentElement.appendChild(cancel);\n",
              "  cancel.textContent = 'Cancel upload';\n",
              "  const cancelPromise = new Promise((resolve) => {\n",
              "    cancel.onclick = () => {\n",
              "      resolve(null);\n",
              "    };\n",
              "  });\n",
              "\n",
              "  // Wait for the user to pick the files.\n",
              "  const files = yield {\n",
              "    promise: Promise.race([pickedPromise, cancelPromise]),\n",
              "    response: {\n",
              "      action: 'starting',\n",
              "    }\n",
              "  };\n",
              "\n",
              "  cancel.remove();\n",
              "\n",
              "  // Disable the input element since further picks are not allowed.\n",
              "  inputElement.disabled = true;\n",
              "\n",
              "  if (!files) {\n",
              "    return {\n",
              "      response: {\n",
              "        action: 'complete',\n",
              "      }\n",
              "    };\n",
              "  }\n",
              "\n",
              "  for (const file of files) {\n",
              "    const li = document.createElement('li');\n",
              "    li.append(span(file.name, {fontWeight: 'bold'}));\n",
              "    li.append(span(\n",
              "        `(${file.type || 'n/a'}) - ${file.size} bytes, ` +\n",
              "        `last modified: ${\n",
              "            file.lastModifiedDate ? file.lastModifiedDate.toLocaleDateString() :\n",
              "                                    'n/a'} - `));\n",
              "    const percent = span('0% done');\n",
              "    li.appendChild(percent);\n",
              "\n",
              "    outputElement.appendChild(li);\n",
              "\n",
              "    const fileDataPromise = new Promise((resolve) => {\n",
              "      const reader = new FileReader();\n",
              "      reader.onload = (e) => {\n",
              "        resolve(e.target.result);\n",
              "      };\n",
              "      reader.readAsArrayBuffer(file);\n",
              "    });\n",
              "    // Wait for the data to be ready.\n",
              "    let fileData = yield {\n",
              "      promise: fileDataPromise,\n",
              "      response: {\n",
              "        action: 'continue',\n",
              "      }\n",
              "    };\n",
              "\n",
              "    // Use a chunked sending to avoid message size limits. See b/62115660.\n",
              "    let position = 0;\n",
              "    do {\n",
              "      const length = Math.min(fileData.byteLength - position, MAX_PAYLOAD_SIZE);\n",
              "      const chunk = new Uint8Array(fileData, position, length);\n",
              "      position += length;\n",
              "\n",
              "      const base64 = btoa(String.fromCharCode.apply(null, chunk));\n",
              "      yield {\n",
              "        response: {\n",
              "          action: 'append',\n",
              "          file: file.name,\n",
              "          data: base64,\n",
              "        },\n",
              "      };\n",
              "\n",
              "      let percentDone = fileData.byteLength === 0 ?\n",
              "          100 :\n",
              "          Math.round((position / fileData.byteLength) * 100);\n",
              "      percent.textContent = `${percentDone}% done`;\n",
              "\n",
              "    } while (position < fileData.byteLength);\n",
              "  }\n",
              "\n",
              "  // All done.\n",
              "  yield {\n",
              "    response: {\n",
              "      action: 'complete',\n",
              "    }\n",
              "  };\n",
              "}\n",
              "\n",
              "scope.google = scope.google || {};\n",
              "scope.google.colab = scope.google.colab || {};\n",
              "scope.google.colab._files = {\n",
              "  _uploadFiles,\n",
              "  _uploadFilesContinue,\n",
              "};\n",
              "})(self);\n",
              "</script> "
            ]
          },
          "metadata": {}
        },
        {
          "output_type": "stream",
          "name": "stdout",
          "text": [
            "Saving harvard.wav to harvard.wav\n"
          ]
        },
        {
          "output_type": "display_data",
          "data": {
            "text/plain": [
              "<Figure size 1200x400 with 1 Axes>"
            ],
            "image/png": "[encoded data removed]"
          },
          "metadata": {}
        }
      ]
    },
    {
      "cell_type": "markdown",
      "source": [
        "## Define Transcription and Translation Logic\n",
        "Load the Whisper model and define the core transcription/translation function, including waveform visualization in the Gradio app."
      ],
      "metadata": {
        "id": "U22TggU3Qzb5"
      }
    },
    {
      "cell_type": "code",
      "source": [
        "import whisper\n",
        "import gradio as gr\n",
        "\n",
        "model = whisper.load_model('medium')\n",
        "\n",
        "def transcribe_and_translate(audio_path):\n",
        "    # Load and preprocess audio\n",
        "    audio = whisper.load_audio(audio_path)\n",
        "    audio = whisper.pad_or_trim(audio)\n",
        "    mel = whisper.log_mel_spectrogram(audio).to(model.device)\n",
        "\n",
        "    # Calculate time axis for visualization\n",
        "    sample_rate = 16000\n",
        "    time = np.linspace(0, len(audio) / sample_rate, num=len(audio))\n",
        "\n",
        "    # Create waveform plot\n",
        "    plt.figure(figsize=(12, 4))\n",
        "    plt.plot(time, audio, color='blue')\n",
        "    plt.title('Audio Waveform')\n",
        "    plt.xlabel('Time (seconds)')\n",
        "    plt.ylabel('Amplitude')\n",
        "    plt.grid(True)\n",
        "    plt.savefig('waveform.png')\n",
        "    plt.close()\n",
        "\n",
        "    # Language detection\n",
        "    whisper_probs = model.detect_language(mel)[1]\n",
        "    top_lang = max(whisper_probs, key=whisper_probs.get)\n",
        "\n",
        "    # Transcription\n",
        "    result = model.transcribe(audio_path, fp16=False)\n",
        "    transcription = result['text']\n",
        "\n",
        "    # Fallback language detection\n",
        "    fallback_lang = detect_language(transcription)\n",
        "\n",
        "    # Translation to French\n",
        "    translation = model.transcribe(audio_path, language='fr', fp16=False)['text']\n",
        "\n",
        "    # Save output\n",
        "    file_path = save_output_file(transcription, translation, top_lang, fallback_lang)\n",
        "\n",
        "    return (\n",
        "        f'Whisper: {top_lang} | langdetect: {fallback_lang}',\n",
        "        transcription,\n",
        "        translation,\n",
        "        file_path,\n",
        "        'waveform.png'\n",
        "    )"
      ],
      "metadata": {
        "id": "CkskPZMgQ18p",
        "colab": {
          "base_uri": "https://localhost:8080/",
          "height": 0
        },
        "outputId": "12827d7a-e5ae-4b5a-c8b7-be922e085b71"
      },
      "execution_count": 5,
      "outputs": [
        {
          "output_type": "stream",
          "name": "stderr",
          "text": [
            "100%|█████████████████████████████████████| 1.42G/1.42G [00:29<00:00, 51.3MiB/s]\n"
          ]
        }
      ]
    },
    {
      "cell_type": "markdown",
      "source": [
        "## Deploy the Application with Gradio\n",
        "Create a Gradio interface with an additional output for the waveform plot."
      ],
      "metadata": {
        "id": "GeKtcDpqQ4S9"
      }
    },
    {
      "cell_type": "code",
      "source": [
        "app = gr.Interface(\n",
        "    fn=transcribe_and_translate,\n",
        "    inputs=gr.Audio(type='filepath', label='🎧 Upload Audio File'),\n",
        "    outputs=[\n",
        "        gr.Text(label='🌐 Language Detection'),\n",
        "        gr.Textbox(label='📝 Transcription'),\n",
        "        gr.Textbox(label='🇫🇷 Translation (French)'),\n",
        "        gr.File(label='📄 Download Result (.txt)'),\n",
        "        gr.Image(label='📈 Audio Waveform')\n",
        "    ],\n",
        "    title='🗣️ Whisper Transcriber & Translator with Visualization',\n",
        "    description='Upload audio to get transcription, French translation, language detection, and a waveform plot.'\n",
        ")\n",
        "\n",
        "app.launch(share=True)"
      ],
      "metadata": {
        "colab": {
          "base_uri": "https://localhost:8080/",
          "height": 611
        },
        "id": "npiXVAO8Zd1z",
        "outputId": "314a80ec-98e5-49bf-ee34-42901ceb6289"
      },
      "execution_count": 6,
      "outputs": [
        {
          "output_type": "stream",
          "name": "stdout",
          "text": [
            "Colab notebook detected. To show errors in colab notebook, set debug=True in launch()\n",
            "* Running on public URL: https://7ad9b78c5477091db7.gradio.live\n",
            "\n",
            "This share link expires in 72 hours. For free permanent hosting and GPU upgrades, run `gradio deploy` from the terminal in the working directory to deploy to Hugging Face Spaces (https://huggingface.co/spaces)\n"
          ]
        },
        {
          "output_type": "display_data",
          "data": {
            "text/plain": [
              "<IPython.core.display.HTML object>"
            ],
            "text/html": [
              "<div><iframe src=\"https://7ad9b78c5477091db7.gradio.live\" width=\"100%\" height=\"500\" allow=\"autoplay; camera; microphone; clipboard-read; clipboard-write;\" frameborder=\"0\" allowfullscreen></iframe></div>"
            ]
          },
          "metadata": {}
        },
        {
          "output_type": "execute_result",
          "data": {
            "text/plain": []
          },
          "metadata": {},
          "execution_count": 6
        }
      ]
    },
    {
      "cell_type": "markdown",
      "source": [
        "## Conclusion\n",
        "We successfully:\n",
        "- Tested utility functions with `unittest` to ensure correctness.\n",
        "- Visualized the audio waveform for better insight into the input signal.\n",
        "- Deployed a Whisper-based Speech-To-Text app with Gradio, including a waveform plot, accessible via a public URL.\n",
        "\n",
        "\n"
      ],
      "metadata": {
        "id": "xDlm3BaMQ8us"
      }
    }
  ]
}